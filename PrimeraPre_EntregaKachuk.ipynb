{
  "nbformat": 4,
  "nbformat_minor": 0,
  "metadata": {
    "colab": {
      "provenance": [],
      "toc_visible": true,
      "authorship_tag": "ABX9TyNh0ep/VUeH555QkhAoMSXE",
      "include_colab_link": true
    },
    "kernelspec": {
      "name": "python3",
      "display_name": "Python 3"
    },
    "language_info": {
      "name": "python"
    }
  },
  "cells": [
    {
      "cell_type": "markdown",
      "metadata": {
        "id": "view-in-github",
        "colab_type": "text"
      },
      "source": [
        "<a href=\"https://colab.research.google.com/github/Nicokac/CoderhousePython/blob/main/PrimeraPre_EntregaKachuk.ipynb\" target=\"_parent\"><img src=\"https://colab.research.google.com/assets/colab-badge.svg\" alt=\"Open In Colab\"/></a>"
      ]
    },
    {
      "cell_type": "markdown",
      "source": [
        "# Primera Pre-Entrega\n",
        "\n",
        "Objetivo:\n",
        "  - Practicar el conecpto de funciones. Preparar la parte lógica para el registro de usuarios\n",
        "\n",
        "Consigna:\n",
        "  - Crear un programa que permita emular el registro y almacenamiento de usuarios en una base de datos. Crear el programa utilizando el concepto de funciones, diccionarios, bucles y condicionales.\n",
        "\n",
        "Formato:\n",
        "  - El proyecto debe compartir utilizando Colab bajo el nombre \"Primera pre-entrega+Apellido.\"\n",
        "\n",
        "Se debe entregar:\n",
        "  - Se debe entregar todo el programa.\n",
        "\n",
        "Sugerencias:\n",
        "  - El formato de registro es: Nombre de usuario y Contraseña.\n",
        "  - Utilizar una función para almacenar la información y otra función para mostrar la información\n",
        "  - Utilizar un diccionario para almacenar dicha información, con el par usuario-contraseña (clave-valor)\n",
        "  "
      ],
      "metadata": {
        "id": "4JrHN-xaLR0H"
      }
    },
    {
      "cell_type": "code",
      "source": [
        "#@title Programa\n",
        "# Base de datos para los usuarios y contraseñas\n",
        "bd_usuarios = {}\n",
        "\n",
        "# Función para almacenar usuarios y contraseñas\n",
        "def almacenar():\n",
        "    usuario = input(\"Creación de usuario: \")\n",
        "    contraseña = input(\"Creación de contraseña: \")\n",
        "    if len(contraseña) <= 6:\n",
        "      print(f\"Contraseña de {len(contraseña)} caracteres. Demasiado debil, agregue más caracteres.\")\n",
        "    else:\n",
        "      bd_usuarios[usuario] = contraseña  # Se almacena el usuario y la contraseña en el diccionario\n",
        "      print(\"Usuario registrado correctamente.\\n\")\n",
        "\n",
        "# Función para mostrar usuarios y contraseñas almacenadas\n",
        "def mostrar():\n",
        "    if not bd_usuarios:\n",
        "        print(\"No hay usuarios almacenados.\")\n",
        "    else:\n",
        "        for usuario, contraseña in bd_usuarios.items():\n",
        "            print(f\"Usuario: {usuario} Contraseña: {contraseña}\")\n",
        "\n",
        "# Función para realizar login y comprobar usuario y contraseña\n",
        "def login():\n",
        "    login_usuario = input(\"Ingrese el nombre de usuario: \")\n",
        "    login_contraseña = input(\"Ingrese la contraseña: \")\n",
        "    if login_usuario in bd_usuarios and bd_usuarios[login_usuario] == login_contraseña:\n",
        "        print(\"Login exitoso!\")\n",
        "    else:\n",
        "        print(\"Usuario o contraseña incorrectos.\")\n",
        "\n",
        "# Ejecución del programa\n",
        "while True:\n",
        "    print(\"\\n--- Menú ---\")\n",
        "    print(\"1. Registrar usuario\")\n",
        "    print(\"2. Mostrar usuarios\")\n",
        "    print(\"3. Iniciar sesión\")\n",
        "    print(\"4. Salir\")\n",
        "    opcion = input(\"Seleccione una opción: \")\n",
        "\n",
        "    if opcion == '1':\n",
        "        almacenar()\n",
        "    elif opcion == '2':\n",
        "        mostrar()\n",
        "    elif opcion == '3':\n",
        "        login()\n",
        "    elif opcion == '4':\n",
        "        print(\"Saliendo del programa...\")\n",
        "        break\n",
        "    else:\n",
        "        print(\"Opción no válida, intente de nuevo.\")\n"
      ],
      "metadata": {
        "id": "wUeVMa0nCJHq"
      },
      "execution_count": null,
      "outputs": []
    }
  ]
}